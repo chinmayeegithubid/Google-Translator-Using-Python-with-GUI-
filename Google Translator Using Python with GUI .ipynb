{
 "cells": [
  {
   "cell_type": "markdown",
   "id": "db75449d-bf02-4e4e-8e88-88691ff8667d",
   "metadata": {},
   "source": [
    "# Google Translator Using Python with GUI (Translate English to Hindi or Any Language) by Chinmayee Nayak"
   ]
  },
  {
   "cell_type": "markdown",
   "id": "caea9b20-d7e8-4f65-be2f-fb344abbece0",
   "metadata": {},
   "source": [
    "# Introduction"
   ]
  },
  {
   "cell_type": "markdown",
   "id": "3cf22e5b-9b1f-478a-a6b0-406036d5062b",
   "metadata": {},
   "source": [
    "This Python program creates a graphical user interface (GUI) for a language translator using the tkinter library for the GUI components and the googletrans library for translation. The application allows users to input text in one language, select source and destination languages, and get the translated text displayed in a text box."
   ]
  },
  {
   "cell_type": "markdown",
   "id": "db1da5b0-78c7-4923-8808-a4f6a7a6cdd5",
   "metadata": {},
   "source": [
    "# Code Implementation"
   ]
  },
  {
   "cell_type": "code",
   "execution_count": 257,
   "id": "107fc3cf-8c5f-48ef-a3ac-fc3234c5e5f8",
   "metadata": {},
   "outputs": [],
   "source": [
    "from tkinter import *                                  # Importing all the classes and functions from the tkinter library.\n",
    "from tkinter import ttk                               # Importing the ttk module from tkinter which provides access to the themed widget set.\n",
    "from googletrans import Translator, LANGUAGES         # Importing the Translator class and LANGUAGES dictionary from googletrans"
   ]
  },
  {
   "cell_type": "markdown",
   "id": "31f62a60-ab43-43f5-a677-2f98ce7bbc69",
   "metadata": {},
   "source": [
    "The above code imports the necessary modules for the GUI and translation functionality.\n",
    "\n",
    "- tkinter and ttk are used for creating the GUI.\r",
    "- \n",
    "googletrans is used for translating text between languages."
   ]
  },
  {
   "cell_type": "code",
   "execution_count": 258,
   "id": "7ee58f34-fbfd-4af3-a397-aadfe8376fcf",
   "metadata": {},
   "outputs": [],
   "source": [
    "def change(text=\"type\",src=\"English\",dest=\"Hindi\"):\n",
    "    text1 = text\n",
    "    src1 = src\n",
    "    dest1 = dest\n",
    "    trans = Translator()                                  # Creating an instance of the Translator class.\n",
    "    trans1 = trans.translate(text,src=src1,dest=dest1)    # Translating the text from src language to dest language.\n",
    "    return trans1.text                                   # Returning the translated text.\n",
    "   "
   ]
  },
  {
   "cell_type": "markdown",
   "id": "955069f7-a4f7-4af9-af20-f16888e3c23d",
   "metadata": {},
   "source": [
    "This function, change, takes a text string, a source language, and a destination language, and uses the googletrans library to translate the text. \n",
    "It returns the translated text."
   ]
  },
  {
   "cell_type": "code",
   "execution_count": 259,
   "id": "68850274-ed95-4de4-b14e-2e679642df2f",
   "metadata": {},
   "outputs": [],
   "source": [
    "\n",
    "def data():\n",
    "    s = comb_sor.get()                     # Getting the selected source language from the combobox.\n",
    "    d = comb_dest.get()                    # Getting the selected destination language from the combobox.\n",
    "    masg = Sor_txt.get(1.0, END)           # Getting the text from the source text box.\n",
    "\n",
    "    textget = change(text=masg, src=s, dest=d) # Calling the change function to translate the text.\n",
    "    dest_txt.delete(1.0, END)                   # Deleting any existing text in the destination text box.\n",
    "    dest_txt.insert(END, textget)               # Inserting the translated text into the destination text box.\n"
   ]
  },
  {
   "cell_type": "markdown",
   "id": "d32ed24f-4a1f-48df-8eb5-39b118a26e9e",
   "metadata": {},
   "source": [
    "The data function is responsible for fetching user input, translating it using the change function, and then displaying the translated text in the destination text box."
   ]
  },
  {
   "cell_type": "code",
   "execution_count": 260,
   "id": "9bc0726e-563e-414f-abd1-e730877684e6",
   "metadata": {
    "scrolled": true
   },
   "outputs": [],
   "source": [
    "root = Tk()                    # Creating the main window.\n",
    "root.title(\"Translator\")       # Setting the title of the window.\n",
    "root.geometry(\"500x700\")       # Setting the size of the window.\n",
    "root.config(bg='Red')          # Setting the background color of the window."
   ]
  },
  {
   "cell_type": "markdown",
   "id": "b7a53c0f-1a1d-40e0-9480-8ab88be3911b",
   "metadata": {},
   "source": [
    "Here, the main window of the Tkinter application is created and configured"
   ]
  },
  {
   "cell_type": "code",
   "execution_count": 261,
   "id": "f5b7ce10-715c-4559-81f0-d6e4e6a0f019",
   "metadata": {},
   "outputs": [],
   "source": [
    "\n",
    "lab_txt = Label(root, text=\"Translator\", font=(\"Times New Roman\", 40, \"bold\"))\n",
    "lab_txt.place(x=100, y=40, height=50, width=300)"
   ]
  },
  {
   "cell_type": "markdown",
   "id": "ad0da307-5428-4959-87f4-0feae25cd0b9",
   "metadata": {},
   "source": [
    "A label widget is created with the text \"Translator\" and is placed at the specified coordinates within the window."
   ]
  },
  {
   "cell_type": "code",
   "execution_count": 262,
   "id": "382a303a-0cfa-4c3b-9d28-518201b9ed21",
   "metadata": {},
   "outputs": [],
   "source": [
    "frame = Frame(root).pack(side=BOTTOM)  # Creating a frame and packing it to the bottom of the window."
   ]
  },
  {
   "cell_type": "markdown",
   "id": "bf4d50a5-d996-48fd-9404-5a74f1b94310",
   "metadata": {},
   "source": [
    "A frame widget is created and packed to the bottom of the window. Note that using .pack() directly here returns None, so you should separate the frame creation and packing."
   ]
  },
  {
   "cell_type": "code",
   "execution_count": 263,
   "id": "f666519b-7682-4eed-92af-89c6fc1ec5ed",
   "metadata": {},
   "outputs": [],
   "source": [
    "lab_txt = Label(root, text=\"Source Text\", font=(\"Times New Roman\", 20, \"bold\"), fg=\"Black\", bg=\"red\")\n",
    "lab_txt.place(x=100, y=100, height=20, width=300)"
   ]
  },
  {
   "cell_type": "markdown",
   "id": "061b89b9-0ac2-47ec-a813-03e9f7c7cad6",
   "metadata": {},
   "source": [
    "Another label widget is created with the text \"Source Text\" and is placed at the specified coordinates within the window."
   ]
  },
  {
   "cell_type": "code",
   "execution_count": 264,
   "id": "a0ec4919-70b7-4fb2-a11d-25ce2befc8e2",
   "metadata": {},
   "outputs": [],
   "source": [
    "\n",
    "Sor_txt = Text(frame, font=(\"Times New Roman\", 20, \"bold\"), wrap=WORD)\n",
    "Sor_txt.place(x=10, y=130, height=150, width=480)"
   ]
  },
  {
   "cell_type": "markdown",
   "id": "40e10052-0415-4a16-8f5a-a1cf76c0fb84",
   "metadata": {},
   "source": [
    "A text widget is created for the user to input the source text. It is placed within the frame."
   ]
  },
  {
   "cell_type": "code",
   "execution_count": 265,
   "id": "4c3d3de4-a40c-4cf0-b07c-ed6b010f2f3e",
   "metadata": {},
   "outputs": [],
   "source": [
    "list_text = list(LANGUAGES.values())  # Creating a list of language names from the LANGUAGES dictionary."
   ]
  },
  {
   "cell_type": "markdown",
   "id": "aa8876d9-5d73-4608-917f-313055b036f5",
   "metadata": {},
   "source": [
    "A list of all the language names is created using the LANGUAGES dictionary provided by the googletrans library."
   ]
  },
  {
   "cell_type": "code",
   "execution_count": 266,
   "id": "254e7713-3ce4-4a65-891b-652ee9fc99bd",
   "metadata": {},
   "outputs": [],
   "source": [
    "comb_sor = ttk.Combobox(frame, value=list_text)  # Creating a combobox for selecting the source language.\n",
    "comb_sor.place(x=10, y=300, height=40, width=150)\n",
    "comb_sor.set(\"English\")  # Setting the default value to \"English\"."
   ]
  },
  {
   "cell_type": "markdown",
   "id": "ac6b2f14-03e4-47d2-bf2f-1f023bb3f8ed",
   "metadata": {},
   "source": [
    "A combobox widget is created to allow the user to select the source language. It is populated with the list of language names and defaults to \"English\"."
   ]
  },
  {
   "cell_type": "code",
   "execution_count": 267,
   "id": "e5cfed0c-eb28-4794-8474-f68310a1f6a3",
   "metadata": {},
   "outputs": [],
   "source": [
    "button_change = Button(frame, text=\"Translate\", relief=RAISED, command=data)  # Creating a button for translating the text.\n",
    "button_change.place(x=170, y=300, height=40, width=150)"
   ]
  },
  {
   "cell_type": "markdown",
   "id": "51dfc15e-9da1-4875-990e-056d14bd047a",
   "metadata": {},
   "source": [
    "A button widget is created which, when clicked, will call the data function to translate the text."
   ]
  },
  {
   "cell_type": "code",
   "execution_count": 268,
   "id": "91edbb5a-edaa-42b1-92e0-e04aaa9feeab",
   "metadata": {},
   "outputs": [],
   "source": [
    "\n",
    "comb_dest = ttk.Combobox(frame, value=list_text)  # Creating a combobox for selecting the destination language.\n",
    "comb_dest.place(x=330, y=300, height=40, width=150)\n",
    "comb_dest.set(\"Hindi\")  # Setting the default value to \"Hindi\"."
   ]
  },
  {
   "cell_type": "markdown",
   "id": "890f5e8d-1f13-462f-9840-e450c1b7a503",
   "metadata": {},
   "source": [
    "Another combobox widget is created to allow the user to select the destination language. It is populated with the list of language names and defaults to \"Hindi\""
   ]
  },
  {
   "cell_type": "code",
   "execution_count": 269,
   "id": "56b878b3-8640-4d75-afce-6f53b204110d",
   "metadata": {},
   "outputs": [],
   "source": [
    "lab_txt = Label(root, text=\"Destination Text\", font=(\"Times New Roman\", 20, \"bold\"), fg=\"Black\", bg=\"red\")\n",
    "lab_txt.place(x=100, y=360, height=20, width=300)\n",
    "\n"
   ]
  },
  {
   "cell_type": "markdown",
   "id": "df716a61-740d-470e-9430-e16f76921e48",
   "metadata": {},
   "source": [
    "A label widget is created with the text \"Destination Text\" and is placed at the specified coordinates within the window."
   ]
  },
  {
   "cell_type": "code",
   "execution_count": 270,
   "id": "294e3aed-3442-4bac-a71e-24f21bbd1f81",
   "metadata": {},
   "outputs": [],
   "source": [
    "dest_txt = Text(frame, font=(\"Times New Roman\", 20, \"bold\"), wrap=WORD)\n",
    "dest_txt.place(x=10, y=400, height=150, width=480)"
   ]
  },
  {
   "cell_type": "markdown",
   "id": "be52e5ec-1f4f-4260-8698-07f849932028",
   "metadata": {},
   "source": [
    "A text widget is created for displaying the translated text. It is placed within the frame."
   ]
  },
  {
   "cell_type": "code",
   "execution_count": 271,
   "id": "4fb57991-0036-47fd-b8b6-940bbc61dca2",
   "metadata": {},
   "outputs": [],
   "source": [
    "root.mainloop()  # Starting the Tkinter event loop."
   ]
  },
  {
   "cell_type": "markdown",
   "id": "ab98f49a-a0ef-4e9b-b496-da33cc13b342",
   "metadata": {},
   "source": [
    "The main event loop of Tkinter is started, which waits for user interaction"
   ]
  },
  {
   "cell_type": "markdown",
   "id": "8f932403-df31-412f-abf8-206e32c005e6",
   "metadata": {},
   "source": [
    "# Conclusion"
   ]
  },
  {
   "cell_type": "markdown",
   "id": "f5d23a4b-b725-4614-abd3-6c3e0b18bdb7",
   "metadata": {},
   "source": [
    "This program effectively demonstrates how to create a simple yet functional language translator using Python's tkinter for the graphical user interface and googletrans for the translation functionality. Users can select source and destination languages from comboboxes, input text, and receive translated text displayed in the GUI. This example provides a foundation that can be extended with additional features, such as more languages, error handling, and improved user interface elements."
   ]
  },
  {
   "cell_type": "code",
   "execution_count": null,
   "id": "a34f2f0f-0736-445b-b24c-08b3c0c103c4",
   "metadata": {},
   "outputs": [],
   "source": []
  }
 ],
 "metadata": {
  "kernelspec": {
   "display_name": "Python 3 (ipykernel)",
   "language": "python",
   "name": "python3"
  },
  "language_info": {
   "codemirror_mode": {
    "name": "ipython",
    "version": 3
   },
   "file_extension": ".py",
   "mimetype": "text/x-python",
   "name": "python",
   "nbconvert_exporter": "python",
   "pygments_lexer": "ipython3",
   "version": "3.11.5"
  }
 },
 "nbformat": 4,
 "nbformat_minor": 5
}
